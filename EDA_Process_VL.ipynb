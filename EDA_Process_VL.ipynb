{
 "cells": [
  {
   "cell_type": "markdown",
   "metadata": {},
   "source": [
    "## Exploratory Data Analysis Process for Victoria Larson\n",
    "\n",
    "1. Read information into R\n",
    "2. Analyze data for 20 minutes\n",
    "3. Ask as many questions as possible\n",
    "4. Answer first 3 basic questions\n",
    "5. Continue asking/tweaking questions based on the information I get. "
   ]
  }
 ],
 "metadata": {
  "kernelspec": {
   "display_name": "Python 3",
   "language": "python",
   "name": "python3"
  },
  "language_info": {
   "codemirror_mode": {
    "name": "ipython",
    "version": 3
   },
   "file_extension": ".py",
   "mimetype": "text/x-python",
   "name": "python",
   "nbconvert_exporter": "python",
   "pygments_lexer": "ipython3",
   "version": "3.6.1"
  }
 },
 "nbformat": 4,
 "nbformat_minor": 2
}
